{
  "nbformat": 4,
  "nbformat_minor": 0,
  "metadata": {
    "colab": {
      "provenance": []
    },
    "kernelspec": {
      "name": "python3",
      "display_name": "Python 3"
    },
    "language_info": {
      "name": "python"
    }
  },
  "cells": [
    {
      "cell_type": "code",
      "source": [
        "import pandas as pd\n",
        "from sklearn.model_selection import train_test_split\n",
        "from sklearn.preprocessing import LabelEncoder, StandardScaler\n",
        "from sklearn.linear_model import LogisticRegression\n",
        "from sklearn.ensemble import RandomForestClassifier\n",
        "from sklearn.svm import SVC\n",
        "from sklearn.tree import DecisionTreeClassifier\n",
        "from sklearn.neighbors import KNeighborsClassifier\n",
        "from sklearn.metrics import accuracy_score, classification_report\n",
        "import matplotlib.pyplot as plt\n",
        "import seaborn as sns\n",
        "\n",
        "file_path = '/content/milknew[152].csv'\n",
        "data = pd.read_csv(file_path)\n",
        "\n",
        "print(\"First 5 rows of the dataset:\")\n",
        "print(data.head())\n",
        "print(\"\\nDataset Information:\")\n",
        "print(data.info())\n",
        "print(\"\\nDataset Statistics:\")\n",
        "print(data.describe())"
      ],
      "metadata": {
        "colab": {
          "base_uri": "https://localhost:8080/"
        },
        "id": "D5N_GSs_N9kF",
        "outputId": "c462de81-4817-4002-8056-6e170c274210"
      },
      "execution_count": 12,
      "outputs": [
        {
          "output_type": "stream",
          "name": "stdout",
          "text": [
            "First 5 rows of the dataset:\n",
            "    pH  Temprature  Taste  Odor  Fat   Turbidity  Colour   Grade\n",
            "0  6.6          35      1     0     1          0     254    high\n",
            "1  6.6          36      0     1     0          1     253    high\n",
            "2  8.5          70      1     1     1          1     246     low\n",
            "3  9.5          34      1     1     0          1     255     low\n",
            "4  6.6          37      0     0     0          0     255  medium\n",
            "\n",
            "Dataset Information:\n",
            "<class 'pandas.core.frame.DataFrame'>\n",
            "RangeIndex: 1059 entries, 0 to 1058\n",
            "Data columns (total 8 columns):\n",
            " #   Column      Non-Null Count  Dtype  \n",
            "---  ------      --------------  -----  \n",
            " 0   pH          1059 non-null   float64\n",
            " 1   Temprature  1059 non-null   int64  \n",
            " 2   Taste       1059 non-null   int64  \n",
            " 3   Odor        1059 non-null   int64  \n",
            " 4   Fat         1059 non-null   int64  \n",
            " 5   Turbidity   1059 non-null   int64  \n",
            " 6   Colour      1059 non-null   int64  \n",
            " 7   Grade       1059 non-null   object \n",
            "dtypes: float64(1), int64(6), object(1)\n",
            "memory usage: 66.3+ KB\n",
            "None\n",
            "\n",
            "Dataset Statistics:\n",
            "                pH   Temprature        Taste         Odor         Fat   \\\n",
            "count  1059.000000  1059.000000  1059.000000  1059.000000  1059.000000   \n",
            "mean      6.630123    44.226629     0.546742     0.432483     0.671388   \n",
            "std       1.399679    10.098364     0.498046     0.495655     0.469930   \n",
            "min       3.000000    34.000000     0.000000     0.000000     0.000000   \n",
            "25%       6.500000    38.000000     0.000000     0.000000     0.000000   \n",
            "50%       6.700000    41.000000     1.000000     0.000000     1.000000   \n",
            "75%       6.800000    45.000000     1.000000     1.000000     1.000000   \n",
            "max       9.500000    90.000000     1.000000     1.000000     1.000000   \n",
            "\n",
            "         Turbidity       Colour  \n",
            "count  1059.000000  1059.000000  \n",
            "mean      0.491029   251.840415  \n",
            "std       0.500156     4.307424  \n",
            "min       0.000000   240.000000  \n",
            "25%       0.000000   250.000000  \n",
            "50%       0.000000   255.000000  \n",
            "75%       1.000000   255.000000  \n",
            "max       1.000000   255.000000  \n"
          ]
        }
      ]
    },
    {
      "cell_type": "code",
      "source": [
        "label_encoder = LabelEncoder()\n",
        "data['Grade'] = label_encoder.fit_transform(data['Grade'])\n",
        "print(\"\\nEncoded Grades:\")\n",
        "print(data['Grade'].unique())"
      ],
      "metadata": {
        "colab": {
          "base_uri": "https://localhost:8080/"
        },
        "id": "SdOfluHEOB99",
        "outputId": "8cc57102-c877-4769-9010-b63129dff297"
      },
      "execution_count": 13,
      "outputs": [
        {
          "output_type": "stream",
          "name": "stdout",
          "text": [
            "\n",
            "Encoded Grades:\n",
            "[0 1 2]\n"
          ]
        }
      ]
    },
    {
      "cell_type": "code",
      "source": [
        "X = data.drop('Grade', axis=1)\n",
        "y = data['Grade']\n",
        "\n",
        "scaler = StandardScaler()\n",
        "X_scaled = scaler.fit_transform(X)\n",
        "\n",
        "X_train, X_test, y_train, y_test = train_test_split(X_scaled, y, test_size=0.2, random_state=42)"
      ],
      "metadata": {
        "id": "1WwoW9NpOC6m"
      },
      "execution_count": 14,
      "outputs": []
    },
    {
      "cell_type": "code",
      "source": [
        "models = {\n",
        "    \"Logistic Regression\": LogisticRegression(max_iter=200, random_state=42),\n",
        "    \"Random Forest\": RandomForestClassifier(random_state=42),\n",
        "    \"SVM\": SVC(random_state=42),\n",
        "    \"Decision Tree\": DecisionTreeClassifier(random_state=42),\n",
        "    \"K-Nearest Neighbors\": KNeighborsClassifier()\n",
        "}"
      ],
      "metadata": {
        "id": "jUv9jjSiOIOF"
      },
      "execution_count": 15,
      "outputs": []
    },
    {
      "cell_type": "code",
      "source": [
        "results = []\n",
        "for name, model in models.items():\n",
        "    print(f\"\\nTraining {name}...\")\n",
        "    model.fit(X_train, y_train)\n",
        "    y_pred = model.predict(X_test)\n",
        "    accuracy = accuracy_score(y_test, y_pred)\n",
        "    print(f\"Accuracy of {name}: {accuracy:.2f}\")\n",
        "    print(classification_report(y_test, y_pred))\n",
        "    results.append({\"Model\": name, \"Accuracy\": accuracy})\n"
      ],
      "metadata": {
        "colab": {
          "base_uri": "https://localhost:8080/"
        },
        "id": "vybbSGQtON6v",
        "outputId": "1bb56f9c-61d4-4a35-86bf-9aa5dcd22b45"
      },
      "execution_count": 16,
      "outputs": [
        {
          "output_type": "stream",
          "name": "stdout",
          "text": [
            "\n",
            "Training Logistic Regression...\n",
            "Accuracy of Logistic Regression: 0.84\n",
            "              precision    recall  f1-score   support\n",
            "\n",
            "           0       0.68      0.79      0.73        48\n",
            "           1       0.86      0.88      0.87        78\n",
            "           2       0.93      0.83      0.88        86\n",
            "\n",
            "    accuracy                           0.84       212\n",
            "   macro avg       0.83      0.83      0.83       212\n",
            "weighted avg       0.85      0.84      0.84       212\n",
            "\n",
            "\n",
            "Training Random Forest...\n",
            "Accuracy of Random Forest: 1.00\n",
            "              precision    recall  f1-score   support\n",
            "\n",
            "           0       0.98      1.00      0.99        48\n",
            "           1       1.00      0.99      0.99        78\n",
            "           2       1.00      1.00      1.00        86\n",
            "\n",
            "    accuracy                           1.00       212\n",
            "   macro avg       0.99      1.00      0.99       212\n",
            "weighted avg       1.00      1.00      1.00       212\n",
            "\n",
            "\n",
            "Training SVM...\n",
            "Accuracy of SVM: 0.93\n",
            "              precision    recall  f1-score   support\n",
            "\n",
            "           0       0.77      1.00      0.87        48\n",
            "           1       1.00      0.95      0.97        78\n",
            "           2       0.99      0.87      0.93        86\n",
            "\n",
            "    accuracy                           0.93       212\n",
            "   macro avg       0.92      0.94      0.92       212\n",
            "weighted avg       0.94      0.93      0.93       212\n",
            "\n",
            "\n",
            "Training Decision Tree...\n",
            "Accuracy of Decision Tree: 0.99\n",
            "              precision    recall  f1-score   support\n",
            "\n",
            "           0       0.98      0.98      0.98        48\n",
            "           1       1.00      0.99      0.99        78\n",
            "           2       0.99      1.00      0.99        86\n",
            "\n",
            "    accuracy                           0.99       212\n",
            "   macro avg       0.99      0.99      0.99       212\n",
            "weighted avg       0.99      0.99      0.99       212\n",
            "\n",
            "\n",
            "Training K-Nearest Neighbors...\n",
            "Accuracy of K-Nearest Neighbors: 0.98\n",
            "              precision    recall  f1-score   support\n",
            "\n",
            "           0       0.98      0.94      0.96        48\n",
            "           1       0.96      0.97      0.97        78\n",
            "           2       0.99      1.00      0.99        86\n",
            "\n",
            "    accuracy                           0.98       212\n",
            "   macro avg       0.98      0.97      0.97       212\n",
            "weighted avg       0.98      0.98      0.98       212\n",
            "\n"
          ]
        }
      ]
    },
    {
      "cell_type": "code",
      "source": [
        "results_df = pd.DataFrame(results)\n",
        "print(\"\\nModel Accuracy Comparison:\")\n",
        "print(results_df)\n",
        "\n",
        "plt.figure(figsize=(8, 5))\n",
        "sns.barplot(x='Accuracy', y='Model', data=results_df, palette='viridis')\n",
        "plt.title('Model Accuracy Comparison')\n",
        "plt.xlabel('Accuracy')\n",
        "plt.ylabel('Model')\n",
        "plt.show()"
      ],
      "metadata": {
        "colab": {
          "base_uri": "https://localhost:8080/",
          "height": 733
        },
        "id": "oK5GABOCOUsw",
        "outputId": "ca927ffc-1bd8-42f3-8ef2-9b8e436f62c5"
      },
      "execution_count": 17,
      "outputs": [
        {
          "output_type": "stream",
          "name": "stdout",
          "text": [
            "\n",
            "Model Accuracy Comparison:\n",
            "                 Model  Accuracy\n",
            "0  Logistic Regression  0.839623\n",
            "1        Random Forest  0.995283\n",
            "2                  SVM  0.929245\n",
            "3        Decision Tree  0.990566\n",
            "4  K-Nearest Neighbors  0.976415\n"
          ]
        },
        {
          "output_type": "stream",
          "name": "stderr",
          "text": [
            "<ipython-input-17-cebf29f5bbc1>:6: FutureWarning: \n",
            "\n",
            "Passing `palette` without assigning `hue` is deprecated and will be removed in v0.14.0. Assign the `y` variable to `hue` and set `legend=False` for the same effect.\n",
            "\n",
            "  sns.barplot(x='Accuracy', y='Model', data=results_df, palette='viridis')\n"
          ]
        },
        {
          "output_type": "display_data",
          "data": {
            "text/plain": [
              "<Figure size 800x500 with 1 Axes>"
            ],
            "image/png": "[encoded data removed]"
          },
          "metadata": {}
        }
      ]
    }
  ]
}